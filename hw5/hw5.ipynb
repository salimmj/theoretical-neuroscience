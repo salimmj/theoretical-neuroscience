{
 "cells": [
  {
   "cell_type": "markdown",
   "metadata": {},
   "source": [
    "# Assignment 5\n",
    "\n",
    "1. In class, we derived the maximum likelihood estimate $\\theta_{ML}$ for the parameter $\\theta$ of a model in which the probability of observing x spikes in response to the presentation of a stimulus is given by a linear-Poisson model: $$P(x) = Pois(\\lambda), \\lambda = \\theta s $$\n",
    "given a set of datapoints ${x_i, s_i}$. Use the same approach to derive an expression that $\\theta_{ML}$ must satisfy for the linear-nonlinear-Poisson model: $$P(x) = Pois(\\lambda), \\lambda = f(\\theta s),$$ where $f$ is some known function. The solution will be an implicit expression for $\\theta_{ML}$ involving $f, f', x_i$ and $s_i$."
   ]
  },
  {
   "cell_type": "code",
   "execution_count": null,
   "metadata": {},
   "outputs": [],
   "source": [
    "# \n"
   ]
  }
 ],
 "metadata": {
  "language_info": {
   "name": "python"
  },
  "orig_nbformat": 4
 },
 "nbformat": 4,
 "nbformat_minor": 2
}
